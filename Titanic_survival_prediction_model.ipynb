{
  "metadata": {
    "kernelspec": {
      "name": "python3",
      "display_name": "Python 3",
      "language": "python"
    },
    "language_info": {
      "name": "python",
      "version": "3.10.13",
      "mimetype": "text/x-python",
      "codemirror_mode": {
        "name": "ipython",
        "version": 3
      },
      "pygments_lexer": "ipython3",
      "nbconvert_exporter": "python",
      "file_extension": ".py"
    },
    "kaggle": {
      "accelerator": "none",
      "dataSources": [
        {
          "sourceId": 2965537,
          "sourceType": "datasetVersion",
          "datasetId": 1818188
        }
      ],
      "dockerImageVersionId": 30746,
      "isInternetEnabled": false,
      "language": "python",
      "sourceType": "notebook",
      "isGpuEnabled": false
    },
    "colab": {
      "name": "Titanic_survival_prediction_model",
      "provenance": []
    }
  },
  "nbformat_minor": 0,
  "nbformat": 4,
  "cells": [
    {
      "source": [],
      "metadata": {
        "id": "AvmYoqqeR3dU"
      },
      "cell_type": "code",
      "outputs": [],
      "execution_count": null
    },
    {
      "cell_type": "code",
      "source": [],
      "metadata": {
        "execution": {
          "iopub.status.busy": "2024-07-18T13:56:02.128021Z",
          "iopub.execute_input": "2024-07-18T13:56:02.128546Z",
          "iopub.status.idle": "2024-07-18T13:56:02.139635Z",
          "shell.execute_reply.started": "2024-07-18T13:56:02.128502Z",
          "shell.execute_reply": "2024-07-18T13:56:02.138262Z"
        },
        "trusted": true,
        "id": "I_J09vy9R3dX"
      },
      "execution_count": null,
      "outputs": []
    },
    {
      "cell_type": "code",
      "source": [
        "import pandas as pd\n",
        "import seaborn as sns\n",
        "import numpy as np\n",
        "import matplotlib.pyplot as plt"
      ],
      "metadata": {
        "execution": {
          "iopub.status.busy": "2024-07-18T13:56:02.141773Z",
          "iopub.execute_input": "2024-07-18T13:56:02.14213Z",
          "iopub.status.idle": "2024-07-18T13:56:02.164199Z",
          "shell.execute_reply.started": "2024-07-18T13:56:02.142103Z",
          "shell.execute_reply": "2024-07-18T13:56:02.162928Z"
        },
        "trusted": true,
        "id": "a3HLQqKAR3dX"
      },
      "execution_count": null,
      "outputs": []
    },
    {
      "cell_type": "code",
      "source": [],
      "metadata": {
        "execution": {
          "iopub.status.busy": "2024-07-18T13:56:02.165641Z",
          "iopub.execute_input": "2024-07-18T13:56:02.165996Z",
          "iopub.status.idle": "2024-07-18T13:56:02.176605Z",
          "shell.execute_reply.started": "2024-07-18T13:56:02.165967Z",
          "shell.execute_reply": "2024-07-18T13:56:02.17546Z"
        },
        "trusted": true,
        "id": "xkxzt6EWR3dX"
      },
      "execution_count": null,
      "outputs": []
    },
    {
      "cell_type": "code",
      "source": [
        "df=pd.read_csv('/kaggle/input/titanic-dataset/Titanic-Dataset.csv')\n",
        "df"
      ],
      "metadata": {
        "execution": {
          "iopub.status.busy": "2024-07-18T13:56:02.178099Z",
          "iopub.execute_input": "2024-07-18T13:56:02.178439Z",
          "iopub.status.idle": "2024-07-18T13:56:02.23435Z",
          "shell.execute_reply.started": "2024-07-18T13:56:02.178411Z",
          "shell.execute_reply": "2024-07-18T13:56:02.233266Z"
        },
        "trusted": true,
        "id": "nZPRh3gUR3dX"
      },
      "execution_count": null,
      "outputs": []
    },
    {
      "cell_type": "code",
      "source": [
        "df.shape"
      ],
      "metadata": {
        "execution": {
          "iopub.status.busy": "2024-07-18T13:56:02.23709Z",
          "iopub.execute_input": "2024-07-18T13:56:02.237409Z",
          "iopub.status.idle": "2024-07-18T13:56:02.243966Z",
          "shell.execute_reply.started": "2024-07-18T13:56:02.237383Z",
          "shell.execute_reply": "2024-07-18T13:56:02.242896Z"
        },
        "trusted": true,
        "id": "-y4_yWXbR3dY"
      },
      "execution_count": null,
      "outputs": []
    },
    {
      "cell_type": "markdown",
      "source": [
        "##### This dataset consist of 891 rows and 12 colums"
      ],
      "metadata": {
        "id": "tXCZ6sDrR3dY"
      }
    },
    {
      "cell_type": "code",
      "source": [
        "df.size"
      ],
      "metadata": {
        "execution": {
          "iopub.status.busy": "2024-07-18T13:56:02.245328Z",
          "iopub.execute_input": "2024-07-18T13:56:02.245655Z",
          "iopub.status.idle": "2024-07-18T13:56:02.257926Z",
          "shell.execute_reply.started": "2024-07-18T13:56:02.245625Z",
          "shell.execute_reply": "2024-07-18T13:56:02.256851Z"
        },
        "trusted": true,
        "id": "1IYOTy1oR3dZ"
      },
      "execution_count": null,
      "outputs": []
    },
    {
      "cell_type": "markdown",
      "source": [
        "##### There are in total 10692 entries in the above data"
      ],
      "metadata": {
        "id": "L_BzFGkDR3da"
      }
    },
    {
      "cell_type": "code",
      "source": [
        "df.info()"
      ],
      "metadata": {
        "execution": {
          "iopub.status.busy": "2024-07-18T13:56:02.259225Z",
          "iopub.execute_input": "2024-07-18T13:56:02.259526Z",
          "iopub.status.idle": "2024-07-18T13:56:02.28699Z",
          "shell.execute_reply.started": "2024-07-18T13:56:02.259501Z",
          "shell.execute_reply": "2024-07-18T13:56:02.285967Z"
        },
        "trusted": true,
        "id": "YIwXgkiZR3da"
      },
      "execution_count": null,
      "outputs": []
    },
    {
      "cell_type": "markdown",
      "source": [
        "##### The count of values present in eachn column along with datatypes"
      ],
      "metadata": {
        "id": "JpowN7iHR3da"
      }
    },
    {
      "cell_type": "code",
      "source": [
        "df.describe()"
      ],
      "metadata": {
        "execution": {
          "iopub.status.busy": "2024-07-18T13:56:02.288445Z",
          "iopub.execute_input": "2024-07-18T13:56:02.288854Z",
          "iopub.status.idle": "2024-07-18T13:56:02.321123Z",
          "shell.execute_reply.started": "2024-07-18T13:56:02.288807Z",
          "shell.execute_reply": "2024-07-18T13:56:02.319962Z"
        },
        "trusted": true,
        "id": "aHL0KhwBR3da"
      },
      "execution_count": null,
      "outputs": []
    },
    {
      "cell_type": "code",
      "source": [
        "df.dtypes"
      ],
      "metadata": {
        "execution": {
          "iopub.status.busy": "2024-07-18T13:56:02.322411Z",
          "iopub.execute_input": "2024-07-18T13:56:02.32287Z",
          "iopub.status.idle": "2024-07-18T13:56:02.331389Z",
          "shell.execute_reply.started": "2024-07-18T13:56:02.322769Z",
          "shell.execute_reply": "2024-07-18T13:56:02.330305Z"
        },
        "trusted": true,
        "id": "mL0IAvnvR3da"
      },
      "execution_count": null,
      "outputs": []
    },
    {
      "cell_type": "code",
      "source": [
        "df.isnull().sum()"
      ],
      "metadata": {
        "execution": {
          "iopub.status.busy": "2024-07-18T13:58:28.264132Z",
          "iopub.execute_input": "2024-07-18T13:58:28.264539Z",
          "iopub.status.idle": "2024-07-18T13:58:28.274766Z",
          "shell.execute_reply.started": "2024-07-18T13:58:28.264507Z",
          "shell.execute_reply": "2024-07-18T13:58:28.273433Z"
        },
        "trusted": true,
        "id": "b2-cqcHWR3db"
      },
      "execution_count": null,
      "outputs": []
    },
    {
      "cell_type": "markdown",
      "source": [
        "##### Count of null values present in dataset"
      ],
      "metadata": {
        "id": "iQShUC6LR3db"
      }
    },
    {
      "cell_type": "code",
      "source": [
        "# data cleanind"
      ],
      "metadata": {
        "execution": {
          "iopub.status.busy": "2024-07-18T13:58:30.324358Z",
          "iopub.execute_input": "2024-07-18T13:58:30.32473Z",
          "iopub.status.idle": "2024-07-18T13:58:30.329166Z",
          "shell.execute_reply.started": "2024-07-18T13:58:30.324701Z",
          "shell.execute_reply": "2024-07-18T13:58:30.327911Z"
        },
        "trusted": true,
        "id": "RwcG6BZmR3db"
      },
      "execution_count": null,
      "outputs": []
    },
    {
      "cell_type": "code",
      "source": [
        "df['Age'].fillna(df['Age'].mean(),inplace=True)"
      ],
      "metadata": {
        "execution": {
          "iopub.status.busy": "2024-07-18T13:58:39.375918Z",
          "iopub.execute_input": "2024-07-18T13:58:39.376323Z",
          "iopub.status.idle": "2024-07-18T13:58:39.38301Z",
          "shell.execute_reply.started": "2024-07-18T13:58:39.376294Z",
          "shell.execute_reply": "2024-07-18T13:58:39.38158Z"
        },
        "trusted": true,
        "id": "w3BTyS88R3db"
      },
      "execution_count": null,
      "outputs": []
    },
    {
      "cell_type": "markdown",
      "source": [
        "##### We replaced the null entries with average the average value of ages"
      ],
      "metadata": {
        "id": "7urILoGaR3db"
      }
    },
    {
      "cell_type": "code",
      "source": [
        "df.isnull().sum()"
      ],
      "metadata": {
        "execution": {
          "iopub.status.busy": "2024-07-18T13:58:46.695825Z",
          "iopub.execute_input": "2024-07-18T13:58:46.696249Z",
          "iopub.status.idle": "2024-07-18T13:58:46.705561Z",
          "shell.execute_reply.started": "2024-07-18T13:58:46.696216Z",
          "shell.execute_reply": "2024-07-18T13:58:46.704451Z"
        },
        "trusted": true,
        "id": "9ChCrqvVR3db"
      },
      "execution_count": null,
      "outputs": []
    },
    {
      "cell_type": "code",
      "source": [
        "df=df.drop('Cabin',axis=1)"
      ],
      "metadata": {
        "execution": {
          "iopub.status.busy": "2024-07-18T13:58:51.318656Z",
          "iopub.execute_input": "2024-07-18T13:58:51.319698Z",
          "iopub.status.idle": "2024-07-18T13:58:51.329552Z",
          "shell.execute_reply.started": "2024-07-18T13:58:51.319658Z",
          "shell.execute_reply": "2024-07-18T13:58:51.327978Z"
        },
        "trusted": true,
        "id": "0qW13TALR3db"
      },
      "execution_count": null,
      "outputs": []
    },
    {
      "cell_type": "code",
      "source": [
        "df.isnull().sum()"
      ],
      "metadata": {
        "execution": {
          "iopub.status.busy": "2024-07-18T13:58:53.193302Z",
          "iopub.execute_input": "2024-07-18T13:58:53.194256Z",
          "iopub.status.idle": "2024-07-18T13:58:53.204436Z",
          "shell.execute_reply.started": "2024-07-18T13:58:53.194213Z",
          "shell.execute_reply": "2024-07-18T13:58:53.203259Z"
        },
        "trusted": true,
        "id": "GX3zEU66R3db"
      },
      "execution_count": null,
      "outputs": []
    },
    {
      "cell_type": "code",
      "source": [
        "df['Embarked'].fillna(method = 'backfill', inplace=True)"
      ],
      "metadata": {
        "execution": {
          "iopub.status.busy": "2024-07-18T13:59:12.094969Z",
          "iopub.execute_input": "2024-07-18T13:59:12.095374Z",
          "iopub.status.idle": "2024-07-18T13:59:12.101688Z",
          "shell.execute_reply.started": "2024-07-18T13:59:12.095345Z",
          "shell.execute_reply": "2024-07-18T13:59:12.100443Z"
        },
        "trusted": true,
        "id": "Wsp_9UyYR3db"
      },
      "execution_count": null,
      "outputs": []
    },
    {
      "cell_type": "code",
      "source": [
        "df.isnull().sum()"
      ],
      "metadata": {
        "execution": {
          "iopub.status.busy": "2024-07-18T13:59:19.166954Z",
          "iopub.execute_input": "2024-07-18T13:59:19.16814Z",
          "iopub.status.idle": "2024-07-18T13:59:19.177678Z",
          "shell.execute_reply.started": "2024-07-18T13:59:19.168098Z",
          "shell.execute_reply": "2024-07-18T13:59:19.176332Z"
        },
        "trusted": true,
        "id": "gv7j6gr2R3db"
      },
      "execution_count": null,
      "outputs": []
    },
    {
      "cell_type": "markdown",
      "source": [
        "##### Handling null values of Embarked column through backfill method"
      ],
      "metadata": {
        "id": "A8Txy9HbR3db"
      }
    },
    {
      "cell_type": "code",
      "source": [
        "df.duplicated().sum()"
      ],
      "metadata": {
        "execution": {
          "iopub.status.busy": "2024-07-18T13:59:24.425487Z",
          "iopub.execute_input": "2024-07-18T13:59:24.426283Z",
          "iopub.status.idle": "2024-07-18T13:59:24.437216Z",
          "shell.execute_reply.started": "2024-07-18T13:59:24.426245Z",
          "shell.execute_reply": "2024-07-18T13:59:24.435846Z"
        },
        "trusted": true,
        "id": "8UZzDPSuR3db"
      },
      "execution_count": null,
      "outputs": []
    },
    {
      "cell_type": "markdown",
      "source": [
        "##### Hence,there are no duplicated values"
      ],
      "metadata": {
        "id": "2KSeoFNGR3db"
      }
    },
    {
      "cell_type": "code",
      "source": [
        "df['Embarked'].unique()\n"
      ],
      "metadata": {
        "execution": {
          "iopub.status.busy": "2024-07-18T13:59:27.382316Z",
          "iopub.execute_input": "2024-07-18T13:59:27.382714Z",
          "iopub.status.idle": "2024-07-18T13:59:27.390745Z",
          "shell.execute_reply.started": "2024-07-18T13:59:27.382682Z",
          "shell.execute_reply": "2024-07-18T13:59:27.389512Z"
        },
        "trusted": true,
        "id": "mxYjc7GSR3db"
      },
      "execution_count": null,
      "outputs": []
    },
    {
      "cell_type": "code",
      "source": [
        "plt.hist(df['Age'], color='red', edgecolor='black');\n"
      ],
      "metadata": {
        "execution": {
          "iopub.status.busy": "2024-07-18T13:59:29.24537Z",
          "iopub.execute_input": "2024-07-18T13:59:29.245771Z",
          "iopub.status.idle": "2024-07-18T13:59:29.534285Z",
          "shell.execute_reply.started": "2024-07-18T13:59:29.245729Z",
          "shell.execute_reply": "2024-07-18T13:59:29.533001Z"
        },
        "trusted": true,
        "id": "21lvCL6JR3db"
      },
      "execution_count": null,
      "outputs": []
    },
    {
      "cell_type": "code",
      "source": [
        "df['Sex'].value_counts()"
      ],
      "metadata": {
        "execution": {
          "iopub.status.busy": "2024-07-18T13:59:30.709662Z",
          "iopub.execute_input": "2024-07-18T13:59:30.710082Z",
          "iopub.status.idle": "2024-07-18T13:59:30.719201Z",
          "shell.execute_reply.started": "2024-07-18T13:59:30.710049Z",
          "shell.execute_reply": "2024-07-18T13:59:30.717913Z"
        },
        "trusted": true,
        "id": "3u1iBhLgR3dc"
      },
      "execution_count": null,
      "outputs": []
    },
    {
      "cell_type": "code",
      "source": [
        "from sklearn.preprocessing import LabelEncoder"
      ],
      "metadata": {
        "execution": {
          "iopub.status.busy": "2024-07-18T13:59:32.202818Z",
          "iopub.execute_input": "2024-07-18T13:59:32.203758Z",
          "iopub.status.idle": "2024-07-18T13:59:32.291971Z",
          "shell.execute_reply.started": "2024-07-18T13:59:32.203717Z",
          "shell.execute_reply": "2024-07-18T13:59:32.29088Z"
        },
        "trusted": true,
        "id": "qHYmVombR3dc"
      },
      "execution_count": null,
      "outputs": []
    },
    {
      "cell_type": "code",
      "source": [
        "le=LabelEncoder()"
      ],
      "metadata": {
        "execution": {
          "iopub.status.busy": "2024-07-18T13:59:36.90993Z",
          "iopub.execute_input": "2024-07-18T13:59:36.910369Z",
          "iopub.status.idle": "2024-07-18T13:59:36.91594Z",
          "shell.execute_reply.started": "2024-07-18T13:59:36.910337Z",
          "shell.execute_reply": "2024-07-18T13:59:36.91452Z"
        },
        "trusted": true,
        "id": "L5U5IcJAR3dc"
      },
      "execution_count": null,
      "outputs": []
    },
    {
      "cell_type": "code",
      "source": [
        "df['Sex']=le.fit_transform(df['Sex'])"
      ],
      "metadata": {
        "execution": {
          "iopub.status.busy": "2024-07-18T13:59:38.235894Z",
          "iopub.execute_input": "2024-07-18T13:59:38.236298Z",
          "iopub.status.idle": "2024-07-18T13:59:38.242616Z",
          "shell.execute_reply.started": "2024-07-18T13:59:38.236269Z",
          "shell.execute_reply": "2024-07-18T13:59:38.24131Z"
        },
        "trusted": true,
        "id": "7wkHVgb3R3dc"
      },
      "execution_count": null,
      "outputs": []
    },
    {
      "cell_type": "code",
      "source": [
        "df"
      ],
      "metadata": {
        "execution": {
          "iopub.status.busy": "2024-07-18T13:59:39.948384Z",
          "iopub.execute_input": "2024-07-18T13:59:39.94938Z",
          "iopub.status.idle": "2024-07-18T13:59:39.966344Z",
          "shell.execute_reply.started": "2024-07-18T13:59:39.949342Z",
          "shell.execute_reply": "2024-07-18T13:59:39.965295Z"
        },
        "trusted": true,
        "id": "qXKG-RgCR3dc"
      },
      "execution_count": null,
      "outputs": []
    },
    {
      "cell_type": "code",
      "source": [
        "df['Sex'].value_counts()"
      ],
      "metadata": {
        "execution": {
          "iopub.status.busy": "2024-07-18T13:59:41.567551Z",
          "iopub.execute_input": "2024-07-18T13:59:41.567963Z",
          "iopub.status.idle": "2024-07-18T13:59:41.579184Z",
          "shell.execute_reply.started": "2024-07-18T13:59:41.56793Z",
          "shell.execute_reply": "2024-07-18T13:59:41.577977Z"
        },
        "trusted": true,
        "id": "b_MLL49dR3dc"
      },
      "execution_count": null,
      "outputs": []
    },
    {
      "cell_type": "code",
      "source": [
        "ac=df['Embarked'].value_counts()"
      ],
      "metadata": {
        "execution": {
          "iopub.status.busy": "2024-07-18T13:59:42.761501Z",
          "iopub.execute_input": "2024-07-18T13:59:42.761908Z",
          "iopub.status.idle": "2024-07-18T13:59:42.768079Z",
          "shell.execute_reply.started": "2024-07-18T13:59:42.761874Z",
          "shell.execute_reply": "2024-07-18T13:59:42.766712Z"
        },
        "trusted": true,
        "id": "Af7Y5afDR3dc"
      },
      "execution_count": null,
      "outputs": []
    },
    {
      "cell_type": "code",
      "source": [
        "#Distribution of Passengers by Embarkation Port on the Titanic\n",
        "plt.pie(ac,labels=ac.index,autopct='%2.1f%%',labeldistance=1.1,startangle=90,shadow=True);"
      ],
      "metadata": {
        "execution": {
          "iopub.status.busy": "2024-07-18T13:59:44.103996Z",
          "iopub.execute_input": "2024-07-18T13:59:44.104436Z",
          "iopub.status.idle": "2024-07-18T13:59:44.252973Z",
          "shell.execute_reply.started": "2024-07-18T13:59:44.104403Z",
          "shell.execute_reply": "2024-07-18T13:59:44.251856Z"
        },
        "trusted": true,
        "id": "xOckAgI7R3dc"
      },
      "execution_count": null,
      "outputs": []
    },
    {
      "cell_type": "markdown",
      "source": [
        "##### We can observe that maximum people boarded from S which represents Southampton and minimum people boarded from Q which represents Queenstown"
      ],
      "metadata": {
        "id": "-aUJNxIiR3dc"
      }
    },
    {
      "cell_type": "code",
      "source": [
        "# Age distribution by class\n",
        "plt.figure(figsize=(10, 6))\n",
        "sns.histplot(data=df, x='Age', hue='Pclass', multiple='stack', kde=True)\n",
        "plt.title('Age Distribution by Class')\n",
        "plt.show()"
      ],
      "metadata": {
        "execution": {
          "iopub.status.busy": "2024-07-18T13:59:46.35056Z",
          "iopub.execute_input": "2024-07-18T13:59:46.350936Z",
          "iopub.status.idle": "2024-07-18T13:59:46.947354Z",
          "shell.execute_reply.started": "2024-07-18T13:59:46.350908Z",
          "shell.execute_reply": "2024-07-18T13:59:46.946225Z"
        },
        "trusted": true,
        "id": "36KvsgKsR3dc"
      },
      "execution_count": null,
      "outputs": []
    },
    {
      "cell_type": "markdown",
      "source": [
        "##### hence in the above histogram we observe that among all the three classes maximum people are in their 30s age group and\n",
        "##### 3rd class has maximum population"
      ],
      "metadata": {
        "id": "9tt78raVR3dc"
      }
    },
    {
      "cell_type": "code",
      "source": [
        "plt.figure(figsize=(8, 6))\n",
        "sns.countplot(data=df, x='Sex')\n",
        "plt.title('Count Plot for Gender Column')\n",
        "plt.xlabel('Gender')\n",
        "plt.ylabel('Count')\n",
        "plt.show()"
      ],
      "metadata": {
        "execution": {
          "iopub.status.busy": "2024-07-18T13:59:48.498873Z",
          "iopub.execute_input": "2024-07-18T13:59:48.499274Z",
          "iopub.status.idle": "2024-07-18T13:59:48.820843Z",
          "shell.execute_reply.started": "2024-07-18T13:59:48.499242Z",
          "shell.execute_reply": "2024-07-18T13:59:48.8198Z"
        },
        "trusted": true,
        "id": "RZmv8t2mR3dg"
      },
      "execution_count": null,
      "outputs": []
    },
    {
      "cell_type": "markdown",
      "source": [
        "##### Maximum number of males are travelling than number of females"
      ],
      "metadata": {
        "id": "kEJTZRJ8R3dg"
      }
    },
    {
      "cell_type": "code",
      "source": [
        "plt.figure(figsize=(6, 4))\n",
        "sns.barplot(x='Pclass', y='Survived', data=df, ci=None)\n",
        "plt.title('Survival Rate by Passenger Class')\n",
        "plt.ylabel('Survival Rate')\n",
        "plt.xlabel('Passenger Class')\n",
        "plt.show()"
      ],
      "metadata": {
        "scrolled": true,
        "execution": {
          "iopub.status.busy": "2024-07-18T13:59:50.705692Z",
          "iopub.execute_input": "2024-07-18T13:59:50.706127Z",
          "iopub.status.idle": "2024-07-18T13:59:50.927352Z",
          "shell.execute_reply.started": "2024-07-18T13:59:50.706094Z",
          "shell.execute_reply": "2024-07-18T13:59:50.926105Z"
        },
        "trusted": true,
        "id": "8I1yxSrjR3dg"
      },
      "execution_count": null,
      "outputs": []
    },
    {
      "cell_type": "markdown",
      "source": [
        "##### Maximum people survied from 1st class"
      ],
      "metadata": {
        "id": "LxWL9s5JR3dg"
      }
    },
    {
      "cell_type": "code",
      "source": [
        "plt.figure(figsize=(6, 4))\n",
        "sns.barplot(x='Sex', y='Survived', data=df, ci=None)\n",
        "plt.title('Survival Rate by Gender')\n",
        "plt.ylabel('Survival Rate')\n",
        "plt.show()"
      ],
      "metadata": {
        "execution": {
          "iopub.status.busy": "2024-07-18T13:59:52.629912Z",
          "iopub.execute_input": "2024-07-18T13:59:52.630948Z",
          "iopub.status.idle": "2024-07-18T13:59:52.805763Z",
          "shell.execute_reply.started": "2024-07-18T13:59:52.630909Z",
          "shell.execute_reply": "2024-07-18T13:59:52.804601Z"
        },
        "trusted": true,
        "id": "YMYoV4XPR3dg"
      },
      "execution_count": null,
      "outputs": []
    },
    {
      "cell_type": "markdown",
      "source": [
        "##### Maximum number of females were saved"
      ],
      "metadata": {
        "id": "tctng4WlR3dg"
      }
    },
    {
      "cell_type": "code",
      "source": [
        "sns.countplot(data=df,x='Pclass', hue='Survived');"
      ],
      "metadata": {
        "execution": {
          "iopub.status.busy": "2024-07-18T13:59:55.128747Z",
          "iopub.execute_input": "2024-07-18T13:59:55.129159Z",
          "iopub.status.idle": "2024-07-18T13:59:55.39121Z",
          "shell.execute_reply.started": "2024-07-18T13:59:55.129123Z",
          "shell.execute_reply": "2024-07-18T13:59:55.390011Z"
        },
        "trusted": true,
        "id": "1q1HO7H6R3dg"
      },
      "execution_count": null,
      "outputs": []
    },
    {
      "cell_type": "markdown",
      "source": [
        "##### Maximum people from 1st class were saved hence minimum amongst them died and maximum people from 3rd class died hence minimum amongst them were saved"
      ],
      "metadata": {
        "id": "G9UsabESR3dg"
      }
    },
    {
      "cell_type": "code",
      "source": [
        "x= df[['Pclass','Age','Sex']]\n",
        "y=df['Survived']"
      ],
      "metadata": {
        "execution": {
          "iopub.status.busy": "2024-07-18T14:00:00.057489Z",
          "iopub.execute_input": "2024-07-18T14:00:00.057894Z",
          "iopub.status.idle": "2024-07-18T14:00:00.064745Z",
          "shell.execute_reply.started": "2024-07-18T14:00:00.057863Z",
          "shell.execute_reply": "2024-07-18T14:00:00.063366Z"
        },
        "trusted": true,
        "id": "Nz3GDCRoR3dg"
      },
      "execution_count": null,
      "outputs": []
    },
    {
      "cell_type": "code",
      "source": [
        "from sklearn.model_selection import train_test_split"
      ],
      "metadata": {
        "execution": {
          "iopub.status.busy": "2024-07-18T14:00:01.198947Z",
          "iopub.execute_input": "2024-07-18T14:00:01.199393Z",
          "iopub.status.idle": "2024-07-18T14:00:01.3201Z",
          "shell.execute_reply.started": "2024-07-18T14:00:01.199361Z",
          "shell.execute_reply": "2024-07-18T14:00:01.318914Z"
        },
        "trusted": true,
        "id": "-4ak88KGR3dh"
      },
      "execution_count": null,
      "outputs": []
    },
    {
      "cell_type": "code",
      "source": [
        "x_train, x_test, y_train, y_test=train_test_split(x,y,random_state=0,test_size=0.25)"
      ],
      "metadata": {
        "execution": {
          "iopub.status.busy": "2024-07-18T14:00:02.449289Z",
          "iopub.execute_input": "2024-07-18T14:00:02.449712Z",
          "iopub.status.idle": "2024-07-18T14:00:02.460513Z",
          "shell.execute_reply.started": "2024-07-18T14:00:02.449677Z",
          "shell.execute_reply": "2024-07-18T14:00:02.458984Z"
        },
        "trusted": true,
        "id": "WJg8eXQMR3dh"
      },
      "execution_count": null,
      "outputs": []
    },
    {
      "cell_type": "code",
      "source": [
        "x_train.shape"
      ],
      "metadata": {
        "execution": {
          "iopub.status.busy": "2024-07-18T14:00:04.426506Z",
          "iopub.execute_input": "2024-07-18T14:00:04.426912Z",
          "iopub.status.idle": "2024-07-18T14:00:04.435577Z",
          "shell.execute_reply.started": "2024-07-18T14:00:04.426879Z",
          "shell.execute_reply": "2024-07-18T14:00:04.43428Z"
        },
        "trusted": true,
        "id": "w6S5234pR3dh"
      },
      "execution_count": null,
      "outputs": []
    },
    {
      "cell_type": "code",
      "source": [
        "y_train.shape"
      ],
      "metadata": {
        "execution": {
          "iopub.status.busy": "2024-07-18T14:00:05.746402Z",
          "iopub.execute_input": "2024-07-18T14:00:05.746779Z",
          "iopub.status.idle": "2024-07-18T14:00:05.753993Z",
          "shell.execute_reply.started": "2024-07-18T14:00:05.746752Z",
          "shell.execute_reply": "2024-07-18T14:00:05.752761Z"
        },
        "trusted": true,
        "id": "SwrVONWyR3dh"
      },
      "execution_count": null,
      "outputs": []
    },
    {
      "cell_type": "code",
      "source": [
        "x_test.shape"
      ],
      "metadata": {
        "execution": {
          "iopub.status.busy": "2024-07-18T14:00:07.011854Z",
          "iopub.execute_input": "2024-07-18T14:00:07.013928Z",
          "iopub.status.idle": "2024-07-18T14:00:07.023615Z",
          "shell.execute_reply.started": "2024-07-18T14:00:07.013782Z",
          "shell.execute_reply": "2024-07-18T14:00:07.020983Z"
        },
        "trusted": true,
        "id": "tx92MOS9R3dh"
      },
      "execution_count": null,
      "outputs": []
    },
    {
      "cell_type": "markdown",
      "source": [
        "### Build the model"
      ],
      "metadata": {
        "id": "JXdDClEoR3dh"
      }
    },
    {
      "cell_type": "code",
      "source": [
        "from sklearn.tree import DecisionTreeClassifier"
      ],
      "metadata": {
        "execution": {
          "iopub.status.busy": "2024-07-18T14:00:11.187396Z",
          "iopub.execute_input": "2024-07-18T14:00:11.187797Z",
          "iopub.status.idle": "2024-07-18T14:00:11.430285Z",
          "shell.execute_reply.started": "2024-07-18T14:00:11.187768Z",
          "shell.execute_reply": "2024-07-18T14:00:11.428958Z"
        },
        "trusted": true,
        "id": "v2rB0lPTR3dh"
      },
      "execution_count": null,
      "outputs": []
    },
    {
      "cell_type": "code",
      "source": [
        "dt=DecisionTreeClassifier(random_state=0)"
      ],
      "metadata": {
        "execution": {
          "iopub.status.busy": "2024-07-18T14:00:12.638636Z",
          "iopub.execute_input": "2024-07-18T14:00:12.639139Z",
          "iopub.status.idle": "2024-07-18T14:00:12.645662Z",
          "shell.execute_reply.started": "2024-07-18T14:00:12.6391Z",
          "shell.execute_reply": "2024-07-18T14:00:12.644262Z"
        },
        "trusted": true,
        "id": "q4q8afkmR3dh"
      },
      "execution_count": null,
      "outputs": []
    },
    {
      "cell_type": "code",
      "source": [
        "dt.fit(x_train,y_train)"
      ],
      "metadata": {
        "execution": {
          "iopub.status.busy": "2024-07-18T14:00:13.91267Z",
          "iopub.execute_input": "2024-07-18T14:00:13.913136Z",
          "iopub.status.idle": "2024-07-18T14:00:13.929987Z",
          "shell.execute_reply.started": "2024-07-18T14:00:13.913099Z",
          "shell.execute_reply": "2024-07-18T14:00:13.928721Z"
        },
        "trusted": true,
        "id": "PnFkNzYDR3dh"
      },
      "execution_count": null,
      "outputs": []
    },
    {
      "cell_type": "code",
      "source": [
        "y_pred= dt.predict(x_test)"
      ],
      "metadata": {
        "execution": {
          "iopub.status.busy": "2024-07-18T14:00:15.328993Z",
          "iopub.execute_input": "2024-07-18T14:00:15.329434Z",
          "iopub.status.idle": "2024-07-18T14:00:15.33716Z",
          "shell.execute_reply.started": "2024-07-18T14:00:15.329402Z",
          "shell.execute_reply": "2024-07-18T14:00:15.335931Z"
        },
        "trusted": true,
        "id": "QJOma5ZMR3dh"
      },
      "execution_count": null,
      "outputs": []
    },
    {
      "cell_type": "code",
      "source": [
        "y_pred"
      ],
      "metadata": {
        "execution": {
          "iopub.status.busy": "2024-07-18T14:00:17.371209Z",
          "iopub.execute_input": "2024-07-18T14:00:17.372456Z",
          "iopub.status.idle": "2024-07-18T14:00:17.380167Z",
          "shell.execute_reply.started": "2024-07-18T14:00:17.372406Z",
          "shell.execute_reply": "2024-07-18T14:00:17.378961Z"
        },
        "trusted": true,
        "id": "aUeXRY0GR3dh"
      },
      "execution_count": null,
      "outputs": []
    },
    {
      "cell_type": "code",
      "source": [
        "res=pd.DataFrame({\n",
        "    'Actual':y_test,\n",
        "    'Predicted':y_pred\n",
        "})"
      ],
      "metadata": {
        "execution": {
          "iopub.status.busy": "2024-07-18T14:00:18.615306Z",
          "iopub.execute_input": "2024-07-18T14:00:18.615676Z",
          "iopub.status.idle": "2024-07-18T14:00:18.621667Z",
          "shell.execute_reply.started": "2024-07-18T14:00:18.615648Z",
          "shell.execute_reply": "2024-07-18T14:00:18.620388Z"
        },
        "trusted": true,
        "id": "wLDmXwfiR3dh"
      },
      "execution_count": null,
      "outputs": []
    },
    {
      "cell_type": "code",
      "source": [
        "res"
      ],
      "metadata": {
        "execution": {
          "iopub.status.busy": "2024-07-18T14:00:20.26579Z",
          "iopub.execute_input": "2024-07-18T14:00:20.266236Z",
          "iopub.status.idle": "2024-07-18T14:00:20.277994Z",
          "shell.execute_reply.started": "2024-07-18T14:00:20.266204Z",
          "shell.execute_reply": "2024-07-18T14:00:20.276847Z"
        },
        "trusted": true,
        "id": "KyeM4mKLR3dh"
      },
      "execution_count": null,
      "outputs": []
    },
    {
      "cell_type": "code",
      "source": [
        "from sklearn.metrics import ConfusionMatrixDisplay"
      ],
      "metadata": {
        "execution": {
          "iopub.status.busy": "2024-07-18T14:00:23.138242Z",
          "iopub.execute_input": "2024-07-18T14:00:23.139047Z",
          "iopub.status.idle": "2024-07-18T14:00:23.144364Z",
          "shell.execute_reply.started": "2024-07-18T14:00:23.138993Z",
          "shell.execute_reply": "2024-07-18T14:00:23.142855Z"
        },
        "trusted": true,
        "id": "8e3FoBkVR3dh"
      },
      "execution_count": null,
      "outputs": []
    },
    {
      "cell_type": "code",
      "source": [
        "ConfusionMatrixDisplay.from_predictions(y_test,y_pred);\n"
      ],
      "metadata": {
        "execution": {
          "iopub.status.busy": "2024-07-18T14:00:25.69129Z",
          "iopub.execute_input": "2024-07-18T14:00:25.692093Z",
          "iopub.status.idle": "2024-07-18T14:00:25.963595Z",
          "shell.execute_reply.started": "2024-07-18T14:00:25.692052Z",
          "shell.execute_reply": "2024-07-18T14:00:25.962368Z"
        },
        "trusted": true,
        "id": "ATat2j9FR3dh"
      },
      "execution_count": null,
      "outputs": []
    },
    {
      "cell_type": "markdown",
      "source": [
        "\n",
        "##### 0 is original , 1 is fake\n",
        "##### 29 - model predicted original but it was fake (False +ve)\n",
        "##### 55 - model predicted fake and it was fake (True -ve)\n",
        "##### 118 - model predicted original and it was original (True +ve)\n",
        "##### 21 - model predicted fake but it was original (False -ve)\n"
      ],
      "metadata": {
        "id": "syKZXQc8R3di"
      }
    },
    {
      "cell_type": "code",
      "source": [
        "from sklearn.metrics import classification_report"
      ],
      "metadata": {
        "execution": {
          "iopub.status.busy": "2024-07-18T14:00:30.643757Z",
          "iopub.execute_input": "2024-07-18T14:00:30.644222Z",
          "iopub.status.idle": "2024-07-18T14:00:30.649683Z",
          "shell.execute_reply.started": "2024-07-18T14:00:30.644189Z",
          "shell.execute_reply": "2024-07-18T14:00:30.648186Z"
        },
        "trusted": true,
        "id": "o_Tl4SOMR3di"
      },
      "execution_count": null,
      "outputs": []
    },
    {
      "cell_type": "code",
      "source": [
        "print(classification_report(y_test,y_pred))"
      ],
      "metadata": {
        "execution": {
          "iopub.status.busy": "2024-07-18T14:00:31.824283Z",
          "iopub.execute_input": "2024-07-18T14:00:31.824714Z",
          "iopub.status.idle": "2024-07-18T14:00:31.841224Z",
          "shell.execute_reply.started": "2024-07-18T14:00:31.824682Z",
          "shell.execute_reply": "2024-07-18T14:00:31.840096Z"
        },
        "trusted": true,
        "id": "slVYTWnlR3di"
      },
      "execution_count": null,
      "outputs": []
    },
    {
      "cell_type": "code",
      "source": [
        "from sklearn.metrics import accuracy_score"
      ],
      "metadata": {
        "execution": {
          "iopub.status.busy": "2024-07-18T14:00:34.428161Z",
          "iopub.execute_input": "2024-07-18T14:00:34.428993Z",
          "iopub.status.idle": "2024-07-18T14:00:34.434482Z",
          "shell.execute_reply.started": "2024-07-18T14:00:34.428954Z",
          "shell.execute_reply": "2024-07-18T14:00:34.433105Z"
        },
        "trusted": true,
        "id": "r15MYOGZR3di"
      },
      "execution_count": null,
      "outputs": []
    },
    {
      "cell_type": "code",
      "source": [
        "accuracy_score(y_test,y_pred)"
      ],
      "metadata": {
        "execution": {
          "iopub.status.busy": "2024-07-18T14:00:36.106703Z",
          "iopub.execute_input": "2024-07-18T14:00:36.107125Z",
          "iopub.status.idle": "2024-07-18T14:00:36.116346Z",
          "shell.execute_reply.started": "2024-07-18T14:00:36.107093Z",
          "shell.execute_reply": "2024-07-18T14:00:36.115118Z"
        },
        "trusted": true,
        "id": "I1DidovAR3di"
      },
      "execution_count": null,
      "outputs": []
    },
    {
      "cell_type": "code",
      "source": [
        "from sklearn.tree import plot_tree"
      ],
      "metadata": {
        "execution": {
          "iopub.status.busy": "2024-07-18T14:00:37.569985Z",
          "iopub.execute_input": "2024-07-18T14:00:37.570409Z",
          "iopub.status.idle": "2024-07-18T14:00:37.575528Z",
          "shell.execute_reply.started": "2024-07-18T14:00:37.57038Z",
          "shell.execute_reply": "2024-07-18T14:00:37.574369Z"
        },
        "trusted": true,
        "id": "5pMkrOG2R3di"
      },
      "execution_count": null,
      "outputs": []
    },
    {
      "cell_type": "code",
      "source": [
        "plt.figure(figsize=(40,20))\n",
        "\n",
        "plot_tree(dt,rounded=True,class_names=['Survived','Not Survived'],feature_names=x.columns,\n",
        "         filled=True,fontsize=7);"
      ],
      "metadata": {
        "execution": {
          "iopub.status.busy": "2024-07-18T14:00:40.218423Z",
          "iopub.execute_input": "2024-07-18T14:00:40.218842Z",
          "iopub.status.idle": "2024-07-18T14:00:49.82602Z",
          "shell.execute_reply.started": "2024-07-18T14:00:40.21881Z",
          "shell.execute_reply": "2024-07-18T14:00:49.824572Z"
        },
        "trusted": true,
        "id": "lfCarrvWR3di"
      },
      "execution_count": null,
      "outputs": []
    },
    {
      "cell_type": "markdown",
      "source": [
        "##### Bar plot ti visualize importance"
      ],
      "metadata": {
        "id": "tNJe2EqMR3di"
      }
    },
    {
      "cell_type": "code",
      "source": [
        "dt.feature_importances_"
      ],
      "metadata": {
        "execution": {
          "iopub.status.busy": "2024-07-18T14:01:06.979422Z",
          "iopub.execute_input": "2024-07-18T14:01:06.980536Z",
          "iopub.status.idle": "2024-07-18T14:01:06.989003Z",
          "shell.execute_reply.started": "2024-07-18T14:01:06.980492Z",
          "shell.execute_reply": "2024-07-18T14:01:06.987529Z"
        },
        "trusted": true,
        "id": "X37Yfc3xR3di"
      },
      "execution_count": null,
      "outputs": []
    },
    {
      "cell_type": "code",
      "source": [
        "plt.bar(x.columns,dt.feature_importances_);\n"
      ],
      "metadata": {
        "execution": {
          "iopub.status.busy": "2024-07-18T14:01:08.529504Z",
          "iopub.execute_input": "2024-07-18T14:01:08.530635Z",
          "iopub.status.idle": "2024-07-18T14:01:08.681275Z",
          "shell.execute_reply.started": "2024-07-18T14:01:08.530594Z",
          "shell.execute_reply": "2024-07-18T14:01:08.680048Z"
        },
        "trusted": true,
        "id": "4O35646qR3di"
      },
      "execution_count": null,
      "outputs": []
    },
    {
      "cell_type": "markdown",
      "source": [
        "##### The importance of columns can be derived from the above graph for predicting output values\n",
        "##### Gender column has the highest importance and passenger class column has the least importance as compared to others"
      ],
      "metadata": {
        "id": "8yK7_Q5cR3di"
      }
    },
    {
      "cell_type": "code",
      "source": [],
      "metadata": {
        "id": "pnt2cel9R3di"
      },
      "execution_count": null,
      "outputs": []
    }
  ]
}